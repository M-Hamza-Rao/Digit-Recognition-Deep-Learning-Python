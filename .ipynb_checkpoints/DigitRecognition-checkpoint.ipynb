{
 "cells": [
  {
   "cell_type": "markdown",
   "metadata": {
    "id": "tYEePGXSzD-3"
   },
   "source": [
    "# **START**"
   ]
  },
  {
   "cell_type": "code",
   "execution_count": null,
   "metadata": {
    "id": "gVwggi6wLXhO"
   },
   "outputs": [],
   "source": [
    "import numpy as np\n",
    "import cv2\n",
    "import os\n",
    "import tensorflow as tf\n",
    "from tensorflow.keras.models import Sequential\n",
    "from tensorflow.keras.layers import Activation, Dense, Dropout, Flatten, Conv2D, MaxPooling2D\n",
    "from tensorflow.keras.losses import categorical_crossentropy\n",
    "from sklearn.model_selection import  train_test_split"
   ]
  },
  {
   "cell_type": "code",
   "execution_count": null,
   "metadata": {
    "colab": {
     "base_uri": "https://localhost:8080/"
    },
    "id": "KK_VDmQzOJVu",
    "outputId": "f0e51a4d-b4f2-4155-fac3-f9341a5004bf"
   },
   "outputs": [
    {
     "name": "stdout",
     "output_type": "stream",
     "text": [
      "['0', '1', '2', '3', '4', '5', '6', '7', '8', '9']\n"
     ]
    }
   ],
   "source": [
    "path = \"/content/drive/MyDrive/DIGIT/myData\"\n",
    "myList = os.listdir(path)\n",
    "print(myList )\n",
    "noOfClasses = len(myList)\n",
    "images=[]\n",
    "ClassNo=[]\n",
    "IMG_SIZE=32"
   ]
  },
  {
   "cell_type": "code",
   "execution_count": null,
   "metadata": {
    "colab": {
     "base_uri": "https://localhost:8080/"
    },
    "id": "wgIbXYfNO0GY",
    "outputId": "c0d5d02b-f32c-4733-d7d2-4a0710180248"
   },
   "outputs": [
    {
     "name": "stdout",
     "output_type": "stream",
     "text": [
      "importing classes\n",
      "0 1 2 3 4 5 6 7 8 9 "
     ]
    }
   ],
   "source": [
    "print(\"importing classes\")\n",
    "for x in range(0,noOfClasses):\n",
    "  myPicList = os.listdir(path+\"/\"+str(x))\n",
    "  for y in myPicList:\n",
    "    CurImg = cv2.imread(path +\"/\"+str(x)+\"/\"+y)\n",
    "    CurImg = cv2.resize(CurImg,(32,32))\n",
    "    images.append(CurImg)\n",
    "    ClassNo.append(x)\n",
    "  print(x,end=\" \")"
   ]
  },
  {
   "cell_type": "code",
   "execution_count": null,
   "metadata": {
    "id": "Msu89l6oe41T"
   },
   "outputs": [],
   "source": [
    "images=np.array(images)\n",
    "ClassNo=np.array(ClassNo)"
   ]
  },
  {
   "cell_type": "code",
   "execution_count": null,
   "metadata": {
    "colab": {
     "base_uri": "https://localhost:8080/"
    },
    "id": "nLkLkQERfYtw",
    "outputId": "566139d9-4ed8-438b-897b-58b1621eb85c"
   },
   "outputs": [
    {
     "name": "stdout",
     "output_type": "stream",
     "text": [
      "(10160, 32, 32, 3) (10160,)\n"
     ]
    }
   ],
   "source": [
    "print(images.shape,ClassNo.shape)"
   ]
  },
  {
   "cell_type": "markdown",
   "metadata": {
    "id": "RAYtm3L4gaBZ"
   },
   "source": []
  },
  {
   "cell_type": "code",
   "execution_count": null,
   "metadata": {
    "id": "uDIp0QZigVjL"
   },
   "outputs": [],
   "source": [
    "X_train,X_test,y_train,y_test= train_test_split(images,ClassNo, test_size=0.2 )\n",
    "X_train,X_validation, y_train, y_validation = train_test_split(X_train,y_train,test_size=0.2)"
   ]
  },
  {
   "cell_type": "code",
   "execution_count": null,
   "metadata": {
    "colab": {
     "base_uri": "https://localhost:8080/"
    },
    "id": "SApUpvXOg8X8",
    "outputId": "38e1b1d0-ead1-4132-ddd2-40089b5e3718"
   },
   "outputs": [
    {
     "data": {
      "text/plain": [
       "(6502, 32, 32, 3)"
      ]
     },
     "execution_count": 11,
     "metadata": {
      "tags": []
     },
     "output_type": "execute_result"
    }
   ],
   "source": [
    "X_train.shape"
   ]
  },
  {
   "cell_type": "code",
   "execution_count": null,
   "metadata": {
    "colab": {
     "base_uri": "https://localhost:8080/"
    },
    "id": "HBPOF6BYhvJI",
    "outputId": "1e4930cb-ddaf-4314-ee71-b97f46238c78"
   },
   "outputs": [
    {
     "data": {
      "text/plain": [
       "[660, 665, 660, 661, 653, 654, 658, 644, 617, 630]"
      ]
     },
     "execution_count": 12,
     "metadata": {
      "tags": []
     },
     "output_type": "execute_result"
    }
   ],
   "source": [
    "numOfSamples = []\n",
    "for a in range(0,noOfClasses):\n",
    "  i=np.where(y_train==a)[0]\n",
    "  i=len(i)\n",
    "  numOfSamples.append(i)\n",
    "numOfSamples"
   ]
  },
  {
   "cell_type": "code",
   "execution_count": null,
   "metadata": {
    "colab": {
     "base_uri": "https://localhost:8080/",
     "height": 350
    },
    "id": "WhfsR0wAjAqn",
    "outputId": "6a9c9e01-62b2-4164-fb70-c309a3c489f5"
   },
   "outputs": [
    {
     "data": {
      "image/png": "[encoded data removed]",
      "text/plain": [
       "<Figure size 720x360 with 1 Axes>"
      ]
     },
     "metadata": {
      "needs_background": "light",
      "tags": []
     },
     "output_type": "display_data"
    }
   ],
   "source": [
    "import matplotlib.pyplot as plt\n",
    "plt.figure(figsize=(10,5))\n",
    "plt.bar(range(0,noOfClasses),numOfSamples)\n",
    "plt.title(\"No of Traineing Images for each class\")\n",
    "plt.xlabel(\"ClassID\")\n",
    "plt.ylabel(\"No of Images\")\n",
    "plt.show()"
   ]
  },
  {
   "cell_type": "code",
   "execution_count": null,
   "metadata": {
    "id": "6nnxi8V4kWlX"
   },
   "outputs": [],
   "source": [
    "def preprocessing(img):\n",
    "  img= cv2.cvtColor(img,cv2.COLOR_BGR2GRAY)\n",
    "  img = cv2.equalizeHist(img)\n",
    "  img= img/255\n",
    "  return img"
   ]
  },
  {
   "cell_type": "code",
   "execution_count": null,
   "metadata": {
    "colab": {
     "base_uri": "https://localhost:8080/",
     "height": 286
    },
    "id": "oQ8gXL5MlRmA",
    "outputId": "10fa1215-edd4-4c6e-c17b-e89a481b7297"
   },
   "outputs": [
    {
     "data": {
      "text/plain": [
       "<matplotlib.image.AxesImage at 0x7f082ac3ff50>"
      ]
     },
     "execution_count": 15,
     "metadata": {
      "tags": []
     },
     "output_type": "execute_result"
    },
    {
     "data": {
      "image/png": "[encoded data removed]",
      "text/plain": [
       "<Figure size 432x288 with 1 Axes>"
      ]
     },
     "metadata": {
      "needs_background": "light",
      "tags": []
     },
     "output_type": "display_data"
    }
   ],
   "source": [
    "img= preprocessing(X_train[30])\n",
    "img=cv2.resize(img,(300,300))\n",
    "#plt.imshow(X_train[30])\n",
    "from google.colab.patches import cv2_imshow\n",
    "plt.imshow(img)\n"
   ]
  },
  {
   "cell_type": "code",
   "execution_count": null,
   "metadata": {
    "id": "8h2BesHyo-I5"
   },
   "outputs": [],
   "source": [
    "X_train = np.array(list(map(preprocessing,X_train)))\n",
    "X_test = np.array(list(map(preprocessing,X_test)))\n",
    "X_validation = np.array(list(map(preprocessing,X_validation)))"
   ]
  },
  {
   "cell_type": "code",
   "execution_count": null,
   "metadata": {
    "colab": {
     "base_uri": "https://localhost:8080/",
     "height": 300
    },
    "id": "b--UpPs8pUds",
    "outputId": "6ef71bae-6255-42ca-e4aa-05c20c184599"
   },
   "outputs": [
    {
     "name": "stdout",
     "output_type": "stream",
     "text": [
      "(32, 32)\n",
      "6\n"
     ]
    },
    {
     "data": {
      "image/png": "[encoded data removed]",
      "text/plain": [
       "<Figure size 432x288 with 1 Axes>"
      ]
     },
     "metadata": {
      "needs_background": "light",
      "tags": []
     },
     "output_type": "display_data"
    }
   ],
   "source": [
    "plt.imshow(X_train[2])\n",
    "print(X_train[2].shape)\n",
    "print(y_train[2])"
   ]
  },
  {
   "cell_type": "markdown",
   "metadata": {
    "id": "EwgNO9_XuaKZ"
   },
   "source": []
  },
  {
   "cell_type": "code",
   "execution_count": null,
   "metadata": {
    "id": "il_PBHrSt3uJ"
   },
   "outputs": [],
   "source": [
    "X_train = X_train.reshape(X_train.shape[0],X_train.shape[1],X_train.shape[2],1)\n",
    "X_test = X_test.reshape(X_test.shape[0],X_test.shape[1],X_test.shape[2],1)\n",
    "X_validation = X_validation.reshape(X_validation.shape[0],X_validation.shape[1],X_validation.shape[2],1)"
   ]
  },
  {
   "cell_type": "code",
   "execution_count": null,
   "metadata": {
    "id": "HiC6FDIJubg7"
   },
   "outputs": [],
   "source": [
    "from tensorflow.keras.preprocessing.image import ImageDataGenerator\n",
    "from keras.utils.np_utils import to_categorical"
   ]
  },
  {
   "cell_type": "code",
   "execution_count": null,
   "metadata": {
    "id": "BwGTnPIoubrB"
   },
   "outputs": [],
   "source": [
    "dataGen = ImageDataGenerator(width_shift_range=0.1,\n",
    "                             height_shift_range=0.1,\n",
    "                             zoom_range=0.2,\n",
    "                             shear_range=0.1,\n",
    "                             rotation_range=30,\n",
    "                             )\n",
    "dataGen.fit(X_train)\n",
    "y_train = to_categorical(y_train,noOfClasses)\n",
    "y_test = to_categorical(y_test,noOfClasses)\n",
    "y_validation = to_categorical(y_validation,noOfClasses)"
   ]
  },
  {
   "cell_type": "markdown",
   "metadata": {
    "id": "otsAjwsahvwO"
   },
   "source": []
  },
  {
   "cell_type": "markdown",
   "metadata": {
    "id": "J52SKykbhv3e"
   },
   "source": []
  },
  {
   "cell_type": "code",
   "execution_count": null,
   "metadata": {
    "id": "Hwukd-Bd0Vfd"
   },
   "outputs": [],
   "source": []
  },
  {
   "cell_type": "code",
   "execution_count": null,
   "metadata": {
    "id": "tbacTAJo0W6S"
   },
   "outputs": [],
   "source": [
    "model = Sequential()\n",
    "model.add((\n",
    "    Conv2D(60,(5,5), input_shape =(32,32,1),activation=\"relu\"\n",
    ")))\n"
   ]
  },
  {
   "cell_type": "code",
   "execution_count": null,
   "metadata": {
    "id": "zUwP4oKG1Fhl"
   },
   "outputs": [],
   "source": [
    "model.add((\n",
    "    Conv2D(60,(5,5),activation=\"relu\"\n",
    ")))\n",
    "model.add(MaxPooling2D(pool_size=(2,2)))"
   ]
  },
  {
   "cell_type": "code",
   "execution_count": null,
   "metadata": {
    "id": "wl1fn-1x1iML"
   },
   "outputs": [],
   "source": [
    "model.add((\n",
    "    Conv2D(30,(3,3),activation=\"relu\"\n",
    ")))"
   ]
  },
  {
   "cell_type": "code",
   "execution_count": null,
   "metadata": {
    "id": "eRmSf3WE1iQp"
   },
   "outputs": [],
   "source": [
    "model.add((\n",
    "    Conv2D(30,(3,3),activation=\"relu\"\n",
    ")))\n",
    "model.add(MaxPooling2D(pool_size=(2,2)))"
   ]
  },
  {
   "cell_type": "code",
   "execution_count": null,
   "metadata": {
    "id": "w7Lbb9hA1sCg"
   },
   "outputs": [],
   "source": [
    "model.add(Dropout(0.5))"
   ]
  },
  {
   "cell_type": "code",
   "execution_count": null,
   "metadata": {
    "id": "lv3kANd_1xMG"
   },
   "outputs": [],
   "source": [
    "model.add(Flatten())"
   ]
  },
  {
   "cell_type": "code",
   "execution_count": null,
   "metadata": {
    "id": "yhL_iUr911nF"
   },
   "outputs": [],
   "source": [
    "model.add(Dense(500, activation=\"relu\"))"
   ]
  },
  {
   "cell_type": "code",
   "execution_count": null,
   "metadata": {
    "id": "TGg0zkb01-xX"
   },
   "outputs": [],
   "source": [
    "model.add(Dropout(0.5))"
   ]
  },
  {
   "cell_type": "code",
   "execution_count": null,
   "metadata": {
    "id": "xPDyiBzt1wpY"
   },
   "outputs": [],
   "source": [
    "model.add(Dense(noOfClasses, activation=\"softmax\"))"
   ]
  },
  {
   "cell_type": "code",
   "execution_count": null,
   "metadata": {
    "id": "Mr3gtZMl2FlV"
   },
   "outputs": [],
   "source": [
    "model.compile(\n",
    "    optimizer = \"adam\",\n",
    "    loss= 'categorical_crossentropy',\n",
    "    metrics = ['accuracy'],\n",
    ")"
   ]
  },
  {
   "cell_type": "code",
   "execution_count": null,
   "metadata": {
    "colab": {
     "base_uri": "https://localhost:8080/"
    },
    "id": "6Ko_vIFG2iEp",
    "outputId": "3617e042-d309-45cf-8390-40318d853d96"
   },
   "outputs": [
    {
     "name": "stdout",
     "output_type": "stream",
     "text": [
      "Model: \"sequential\"\n",
      "_________________________________________________________________\n",
      "Layer (type)                 Output Shape              Param #   \n",
      "=================================================================\n",
      "conv2d (Conv2D)              (None, 28, 28, 60)        1560      \n",
      "_________________________________________________________________\n",
      "conv2d_1 (Conv2D)            (None, 24, 24, 60)        90060     \n",
      "_________________________________________________________________\n",
      "max_pooling2d (MaxPooling2D) (None, 12, 12, 60)        0         \n",
      "_________________________________________________________________\n",
      "conv2d_2 (Conv2D)            (None, 10, 10, 30)        16230     \n",
      "_________________________________________________________________\n",
      "conv2d_3 (Conv2D)            (None, 8, 8, 30)          8130      \n",
      "_________________________________________________________________\n",
      "max_pooling2d_1 (MaxPooling2 (None, 4, 4, 30)          0         \n",
      "_________________________________________________________________\n",
      "dropout (Dropout)            (None, 4, 4, 30)          0         \n",
      "_________________________________________________________________\n",
      "flatten (Flatten)            (None, 480)               0         \n",
      "_________________________________________________________________\n",
      "dense (Dense)                (None, 500)               240500    \n",
      "_________________________________________________________________\n",
      "dropout_1 (Dropout)          (None, 500)               0         \n",
      "_________________________________________________________________\n",
      "dense_1 (Dense)              (None, 10)                5010      \n",
      "=================================================================\n",
      "Total params: 361,490\n",
      "Trainable params: 361,490\n",
      "Non-trainable params: 0\n",
      "_________________________________________________________________\n",
      "None\n"
     ]
    }
   ],
   "source": [
    "print(model.summary())"
   ]
  },
  {
   "cell_type": "code",
   "execution_count": null,
   "metadata": {
    "id": "KbIw1TCN5CLi"
   },
   "outputs": [],
   "source": [
    "noOfFilters = 60\n",
    "sizeOfFilter1 = (5,5)\n",
    "sizeOfFilter2 = (3, 3)\n",
    "sizeOfPool = (2,2)\n",
    "noOfNodes= 500\n",
    "batchSizeVal = 30\n",
    "stepsPerEpochVal = 500\n",
    "epochsVal=2"
   ]
  },
  {
   "cell_type": "code",
   "execution_count": null,
   "metadata": {
    "colab": {
     "base_uri": "https://localhost:8080/"
    },
    "id": "VigHzqUL48d0",
    "outputId": "47d06ed1-3ed9-47f7-d980-fdee08284893"
   },
   "outputs": [
    {
     "name": "stderr",
     "output_type": "stream",
     "text": [
      "/usr/local/lib/python3.7/dist-packages/tensorflow/python/keras/engine/training.py:1844: UserWarning: `Model.fit_generator` is deprecated and will be removed in a future version. Please use `Model.fit`, which supports generators.\n",
      "  warnings.warn('`Model.fit_generator` is deprecated and '\n"
     ]
    },
    {
     "name": "stdout",
     "output_type": "stream",
     "text": [
      "Epoch 1/2\n",
      "217/217 [==============================] - 72s 325ms/step - loss: 2.0027 - accuracy: 0.2569 - val_loss: 0.1651 - val_accuracy: 0.9594\n",
      "Epoch 2/2\n",
      "217/217 [==============================] - 70s 324ms/step - loss: 0.5905 - accuracy: 0.8106 - val_loss: 0.0913 - val_accuracy: 0.9742\n"
     ]
    }
   ],
   "source": [
    "history = model.fit_generator(dataGen.flow(X_train,y_train,\n",
    "                                 batch_size=batchSizeVal ),\n",
    "                                 epochs=epochsVal,\n",
    "                                 validation_data=(X_validation,y_validation),\n",
    "                                 shuffle=1)"
   ]
  },
  {
   "cell_type": "code",
   "execution_count": null,
   "metadata": {
    "colab": {
     "base_uri": "https://localhost:8080/",
     "height": 329
    },
    "id": "cUkItZop53Re",
    "outputId": "7307617a-830b-4833-e3a6-613cddf3eb05"
   },
   "outputs": [
    {
     "data": {
      "image/png": "[encoded data removed]",
      "text/plain": [
       "<Figure size 432x288 with 1 Axes>"
      ]
     },
     "metadata": {
      "needs_background": "light",
      "tags": []
     },
     "output_type": "display_data"
    },
    {
     "name": "stdout",
     "output_type": "stream",
     "text": [
      "Test Score: [0.11075801402330399, 0.9655511975288391]\n",
      "accuracy 0.9655511975288391\n"
     ]
    }
   ],
   "source": [
    "plt.plot(history.history['loss'])\n",
    "plt.plot(history.history['val_loss'])\n",
    "plt.legend(['training','validation'])\n",
    "plt.title('Loss')\n",
    "plt.xlabel('epochs')\n",
    "\n",
    "\n",
    "plt.plot(history.history['accuracy'])\n",
    "plt.plot(history.history['val_accuracy'])\n",
    "plt.legend(['training','validation'])\n",
    "plt.title('accuracy')\n",
    "plt.xlabel('epochs')\n",
    "\n",
    "plt.show()\n",
    "score= model.evaluate(X_test, y_test, verbose=0)\n",
    "print(\"Test Score:\",score)\n",
    "print(\"accuracy\", score[1])"
   ]
  },
  {
   "cell_type": "code",
   "execution_count": null,
   "metadata": {
    "id": "SBBatLUVscU3"
   },
   "outputs": [],
   "source": [
    "!pip install pickle5"
   ]
  },
  {
   "cell_type": "code",
   "execution_count": null,
   "metadata": {
    "id": "MFzxzVpp6xF5"
   },
   "outputs": [],
   "source": [
    "import pickle5 as pickle\n",
    "pickle_out= open(\"/content/model_trained.p\", \"wb\")\n",
    "pickle.dump(model,pickle_out)\n",
    "\n",
    "pickle_out.close()"
   ]
  }
 ],
 "metadata": {
  "colab": {
   "provenance": [],
   "toc_visible": true
  },
  "kernelspec": {
   "display_name": "Python 3 (ipykernel)",
   "language": "python",
   "name": "python3"
  },
  "language_info": {
   "codemirror_mode": {
    "name": "ipython",
    "version": 3
   },
   "file_extension": ".py",
   "mimetype": "text/x-python",
   "name": "python",
   "nbconvert_exporter": "python",
   "pygments_lexer": "ipython3",
   "version": "3.7.0"
  }
 },
 "nbformat": 4,
 "nbformat_minor": 1
}
